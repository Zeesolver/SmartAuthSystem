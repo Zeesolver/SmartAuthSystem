{
 "cells": [
  {
   "cell_type": "code",
   "execution_count": 1,
   "id": "978dc4fe-7a38-4e70-be9a-adb827f98dc9",
   "metadata": {},
   "outputs": [
    {
     "name": "stdin",
     "output_type": "stream",
     "text": [
      "enter email shahzad7671@gmail.com\n",
      "enter password 1234\n"
     ]
    },
    {
     "name": "stdout",
     "output_type": "stream",
     "text": [
      "Welcome\n"
     ]
    }
   ],
   "source": [
    "email = input('enter email')\n",
    "password = input('enter password')\n",
    "\n",
    "if email == 'shahzad7671@gmail.com' and password == '1234':\n",
    "  print('Welcome')\n",
    "\n",
    "elif email == 'shahzad7671@gmail.com' and password != '1234':\n",
    "  # tell the user\n",
    "  print('incorrect password')\n",
    "  password = input('enter password again')\n",
    "  if password == '12345':\n",
    "    print('Welcome, finally!')\n",
    "\n",
    "  else:\n",
    "    print('tre us ki baat nhi!')\n",
    "\n",
    "else:\n",
    "  print('Not correct')"
   ]
  },
  {
   "cell_type": "code",
   "execution_count": null,
   "id": "a03a3af2-eb25-4c0a-aca3-8152d818aab7",
   "metadata": {},
   "outputs": [],
   "source": []
  }
 ],
 "metadata": {
  "kernelspec": {
   "display_name": "Python 3 (ipykernel)",
   "language": "python",
   "name": "python3"
  },
  "language_info": {
   "codemirror_mode": {
    "name": "ipython",
    "version": 3
   },
   "file_extension": ".py",
   "mimetype": "text/x-python",
   "name": "python",
   "nbconvert_exporter": "python",
   "pygments_lexer": "ipython3",
   "version": "3.12.5"
  }
 },
 "nbformat": 4,
 "nbformat_minor": 5
}
